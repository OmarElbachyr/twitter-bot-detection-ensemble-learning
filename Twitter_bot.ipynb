{
  "cells": [
    {
      "cell_type": "markdown",
      "metadata": {},
      "source": [
        "## Import dataset"
      ]
    },
    {
      "cell_type": "code",
      "execution_count": null,
      "metadata": {},
      "outputs": [],
      "source": [
        "import pandas as pd\n",
        "\n",
        "train_data_df = pd.read_excel('./QICC-Bots-DataSet.xlsx', sheet_name='Labelled_Data')\n",
        "test_data_df = pd.read_excel('./QICC-Bots-DataSet.xlsx', sheet_name='Test_Data')\n",
        "\n",
        "all_data_df = pd.concat([train_data_df, test_data_df], ignore_index=True)"
      ]
    },
    {
      "cell_type": "code",
      "execution_count": null,
      "metadata": {
        "colab": {
          "base_uri": "https://localhost:8080/",
          "height": 67
        },
        "id": "o5_d4GSPAPM2",
        "outputId": "dbce0fe1-ed76-4869-b0ef-e61bfca098a2"
      },
      "outputs": [],
      "source": [
        "print(test_data_df.shape)\n",
        "print(train_data_df.shape)\n",
        "print(all_data_df.shape)"
      ]
    },
    {
      "cell_type": "code",
      "execution_count": null,
      "metadata": {
        "colab": {
          "base_uri": "https://localhost:8080/",
          "height": 162
        },
        "id": "aCGDV9jRegFf",
        "outputId": "194d6b4c-ac40-4df3-cfec-c1df389d0717"
      },
      "outputs": [],
      "source": [
        "train_data_df.iloc[0]"
      ]
    },
    {
      "cell_type": "markdown",
      "metadata": {
        "id": "LWC1SgCXPAZX"
      },
      "source": [
        "## Features"
      ]
    },
    {
      "cell_type": "code",
      "execution_count": null,
      "metadata": {
        "id": "tKBTh0I1c9fn"
      },
      "outputs": [],
      "source": [
        "import emoji"
      ]
    },
    {
      "cell_type": "code",
      "execution_count": null,
      "metadata": {
        "id": "l-OhuOL8Buc0"
      },
      "outputs": [],
      "source": [
        "# replace rare app values with the word 'other'\n",
        "d = all_data_df['App'].value_counts() >= 2\n",
        "all_data_df['App'] = [i if d[i] else 'other' for i in all_data_df['App']]"
      ]
    },
    {
      "cell_type": "code",
      "execution_count": null,
      "metadata": {
        "id": "hCQN7IWYBvPB"
      },
      "outputs": [],
      "source": [
        "all_data_df[\"Diff_tweetdate_createddate\"] = all_data_df[\"Date\"] = all_data_df[\"User Since\"]"
      ]
    },
    {
      "cell_type": "code",
      "execution_count": null,
      "metadata": {
        "id": "usuUsst8ESL9"
      },
      "outputs": [],
      "source": [
        "all_data_df[\"has_link\"] = all_data_df[\"Link(s)\"].apply(lambda x: 0 if x == '' else 1)"
      ]
    },
    {
      "cell_type": "code",
      "execution_count": null,
      "metadata": {
        "id": "cHWiUr5uMO29"
      },
      "outputs": [],
      "source": [
        "all_data_df[\"has_media\"] = all_data_df[\"Media\"].apply(lambda x: 0 if x == '' else 1)"
      ]
    },
    {
      "cell_type": "code",
      "execution_count": null,
      "metadata": {
        "id": "J7QLIpX9M0G7"
      },
      "outputs": [],
      "source": [
        "all_data_df[\"is_verified\"] = all_data_df[\"Verfied\"].apply(lambda x: 0 if x == '' else 1)"
      ]
    },
    {
      "cell_type": "code",
      "execution_count": null,
      "metadata": {
        "id": "FJzilRGYPXyS"
      },
      "outputs": [],
      "source": [
        "all_data_df[\"has_location\"] = all_data_df[\"Location_1\"].apply(lambda x: 0 if x == '' else 1)"
      ]
    },
    {
      "cell_type": "code",
      "execution_count": null,
      "metadata": {
        "id": "6D--yKE2P8R2"
      },
      "outputs": [],
      "source": [
        "all_data_df[\"has_bio\"] = all_data_df[\"Bio\"].apply(lambda x: 0 if x == '' else 1)"
      ]
    },
    {
      "cell_type": "code",
      "execution_count": null,
      "metadata": {
        "id": "DHMGbMzsRhHD"
      },
      "outputs": [],
      "source": [
        "all_data_df[\"has_website\"] = all_data_df[\"Website\"].apply(lambda x: 0 if x == '' else 1)"
      ]
    },
    {
      "cell_type": "code",
      "execution_count": null,
      "metadata": {
        "id": "k8KEF9XkRpZ6"
      },
      "outputs": [],
      "source": [
        "import re\n",
        "all_data_df[\"num_hashtags\"] = all_data_df[\"Tweet Text\"].apply(lambda x: len(re.findall(r\"#(\\w+)\", x)))"
      ]
    },
    {
      "cell_type": "code",
      "execution_count": null,
      "metadata": {
        "id": "Hr5fNF-uTjJs"
      },
      "outputs": [],
      "source": [
        "all_data_df[\"has_quote\"] = all_data_df[\"Tweet Text\"].apply(lambda x: len(re.findall(r\"(?<=[ء-ي]\\.)(.*)(?=:)\", x))>0)"
      ]
    },
    {
      "cell_type": "code",
      "execution_count": null,
      "metadata": {
        "id": "dDV5ZY8FTk-4"
      },
      "outputs": [],
      "source": [
        "all_data_df[\"has_:\"] = all_data_df[\"Tweet Text\"].apply(lambda x: len(re.findall(r\":\", x))>0)"
      ]
    },
    {
      "cell_type": "code",
      "execution_count": null,
      "metadata": {
        "id": "l_lFGHWUdxEf"
      },
      "outputs": [],
      "source": [
        "def count_emojis(string):\n",
        "  count = 0\n",
        "  for c in string:\n",
        "    if emoji.is_emoji(c):\n",
        "        count += 1\n",
        "  return count\n",
        "\n",
        "\n",
        "all_data_df[\"num_enojis\"] = all_data_df[\"Tweet Text\"].apply(count_emojis)"
      ]
    },
    {
      "cell_type": "code",
      "execution_count": null,
      "metadata": {},
      "outputs": [],
      "source": [
        "all_data_df[\"num_enojis\"]"
      ]
    },
    {
      "cell_type": "code",
      "execution_count": null,
      "metadata": {
        "id": "c2gr-fhtfGgX"
      },
      "outputs": [],
      "source": [
        "all_data_df[\"FollowerstoFollows_Ratio\"] = all_data_df[\"Follows\"] / all_data_df[\"Followers\"] "
      ]
    },
    {
      "cell_type": "code",
      "execution_count": null,
      "metadata": {
        "id": "VZsHRru-fiq6"
      },
      "outputs": [],
      "source": [
        "import numpy as np\n",
        "all_data_df[\"FollowerstoFollows_Ratio\"] = all_data_df[\"FollowerstoFollows_Ratio\"].fillna(-1).replace(np.inf, -2)"
      ]
    },
    {
      "cell_type": "code",
      "execution_count": null,
      "metadata": {
        "id": "J8EK90ZGXUyv"
      },
      "outputs": [],
      "source": [
        "all_data_features = all_data_df[[\"Diff_tweetdate_createddate\",\"has_link\",\"has_media\",\"is_verified\",\"has_location\",\"has_bio\",\"has_website\",\"num_hashtags\",\"has_quote\",\"has_:\",\"num_enojis\",\"FollowerstoFollows_Ratio\",\"Retweets\",\"Favorites\",\"Listed\",0.181742536,\"Followers\",\"Follows\"]]"
      ]
    },
    {
      "cell_type": "code",
      "execution_count": null,
      "metadata": {
        "colab": {
          "base_uri": "https://localhost:8080/",
          "height": 185
        },
        "id": "5NwYjzMTeEc8",
        "outputId": "892aed8c-a442-441b-9ece-369ada1881b0"
      },
      "outputs": [],
      "source": [
        "all_data_features.keys()"
      ]
    },
    {
      "cell_type": "code",
      "execution_count": null,
      "metadata": {
        "id": "Xu7dUVqIqXLZ"
      },
      "outputs": [],
      "source": [
        "all_data_features_with_labels = all_data_features.join(all_data_df[\"Is_Bot ( 1 for Bot / 0 for Human)\"])"
      ]
    },
    {
      "cell_type": "code",
      "execution_count": null,
      "metadata": {
        "colab": {
          "base_uri": "https://localhost:8080/",
          "height": 585
        },
        "id": "DW-AGI3kqd8Z",
        "outputId": "6c3e49c3-42ef-42c6-9c63-954a10c7f287"
      },
      "outputs": [],
      "source": [
        "import matplotlib.pyplot as plt\n",
        "import seaborn as sns\n",
        "plt.figure(figsize=(16,8))\n",
        "sns.heatmap(all_data_features_with_labels.corr(), cmap='coolwarm', annot=True)\n",
        "plt.tight_layout()\n",
        "plt.show()"
      ]
    },
    {
      "cell_type": "code",
      "execution_count": null,
      "metadata": {
        "id": "KmmO6tUFso5U"
      },
      "outputs": [],
      "source": [
        "all_data_features_after_corr = all_data_features.drop(columns=[\"has_location\",\"Follows\",0.181742536,\"FollowerstoFollows_Ratio\"])"
      ]
    },
    {
      "cell_type": "code",
      "execution_count": null,
      "metadata": {
        "id": "ntH24rjVuaJo"
      },
      "outputs": [],
      "source": [
        "train_features=all_data_features_after_corr.loc[0:len(train_data_df),]\n",
        "test_features=all_data_features_after_corr.loc[len(train_data_df):,]\n",
        "\n",
        "train_label = all_data_df.loc[0:len(train_data_df),\"Is_Bot ( 1 for Bot / 0 for Human)\"]\n",
        "test_label = all_data_df.loc[len(train_data_df):,\"Is_Bot ( 1 for Bot / 0 for Human)\"]"
      ]
    },
    {
      "cell_type": "code",
      "execution_count": null,
      "metadata": {
        "colab": {
          "base_uri": "https://localhost:8080/",
          "height": 121
        },
        "id": "zkdXLR70oveT",
        "outputId": "3a9071bc-aa29-4538-d0f8-5c4aced55286"
      },
      "outputs": [],
      "source": [
        "!mkdir data\n",
        "all_data_df.to_csv(\"./data/all_data.csv\")\n",
        "all_data_features_after_corr.to_csv(\"./data/all_data_features_after_corr.csv\")\n",
        "all_data_features.to_csv(\"./data/all_data_features.csv\")\n",
        "train_features.to_csv(\"./data/train_features.csv\")\n",
        "test_features.to_csv(\"./data/test_features.csv\")\n",
        "train_label.to_csv(\"./data/train_label.csv\")\n",
        "test_label.to_csv(\"./data/test_label.csv\")"
      ]
    },
    {
      "cell_type": "markdown",
      "metadata": {
        "id": "ZOKfXYAmlxxb"
      },
      "source": [
        "## Training"
      ]
    },
    {
      "cell_type": "code",
      "execution_count": null,
      "metadata": {
        "id": "INfb-yk6gvcW"
      },
      "outputs": [],
      "source": [
        "from sklearn.metrics import precision_score, recall_score , f1_score , classification_report,precision_recall_fscore_support,accuracy_score\n",
        "\n",
        "def train_model(classifier, feature_vector_train, label, feature_vector_valid,valid_y, epochs=1, show_report=True, print_pred=False):\n",
        "\n",
        "    classifier.fit(feature_vector_train, label)\n",
        "    \n",
        "    # predict the labels on validation dataset\n",
        "    predictions = classifier.predict(feature_vector_valid)\n",
        "\n",
        "    if print_pred:\n",
        "      print(predictions)\n",
        "    if show_report:\n",
        "      print(classification_report(valid_y,predictions))\n",
        "    return accuracy_score(valid_y, predictions) , precision_recall_fscore_support(valid_y,predictions)"
      ]
    },
    {
      "cell_type": "code",
      "execution_count": null,
      "metadata": {
        "id": "B8LGZYOIgvvz"
      },
      "outputs": [],
      "source": [
        "from sklearn import model_selection, preprocessing, linear_model, naive_bayes, metrics, svm\n",
        "from sklearn import decomposition, ensemble\n",
        "import xgboost"
      ]
    },
    {
      "cell_type": "markdown",
      "metadata": {
        "id": "vp65cEarl0mh"
      },
      "source": [
        "## Logistic Regression"
      ]
    },
    {
      "cell_type": "code",
      "execution_count": null,
      "metadata": {
        "colab": {
          "base_uri": "https://localhost:8080/",
          "height": 238
        },
        "id": "q5DnRI2IjZEt",
        "outputId": "08ac531d-c676-482c-b6c8-e8d0f28c7fa0"
      },
      "outputs": [],
      "source": [
        "accuracy , prfs = train_model(linear_model.LogisticRegression(), train_features, train_label, test_features,test_label,print_pred=False)\n",
        "print (\"NB, Count Vectors: \", accuracy)"
      ]
    },
    {
      "cell_type": "markdown",
      "metadata": {
        "id": "3aDNviral7Jl"
      },
      "source": [
        "## Random Forest"
      ]
    },
    {
      "cell_type": "code",
      "execution_count": null,
      "metadata": {
        "colab": {
          "base_uri": "https://localhost:8080/",
          "height": 185
        },
        "id": "TdJdXRetl9N5",
        "outputId": "3a29d248-1df3-49de-b47c-7ef1ca5b2548"
      },
      "outputs": [],
      "source": [
        "model=ensemble.RandomForestClassifier(n_estimators=10000,criterion='gini',max_features=None)\n",
        "accuracy , prfs = train_model(model, train_features, train_label, test_features,test_label,print_pred=False)\n",
        "print (\"NB, Count Vectors: \", accuracy)"
      ]
    },
    {
      "cell_type": "code",
      "execution_count": null,
      "metadata": {
        "id": "TFWxVOU6mlpN"
      },
      "outputs": [],
      "source": [
        "import pickle\n",
        "pickle.dump(model, open(\"RandomForest.model\", 'wb'))"
      ]
    },
    {
      "cell_type": "code",
      "execution_count": null,
      "metadata": {
        "id": "VHmYLRMenmpK"
      },
      "outputs": [],
      "source": [
        "loaded_model = pickle.load(open(\"RandomForest.model\", 'rb'))"
      ]
    },
    {
      "cell_type": "code",
      "execution_count": null,
      "metadata": {
        "colab": {
          "base_uri": "https://localhost:8080/",
          "height": 168
        },
        "id": "0IlRwDW3nyKP",
        "outputId": "ba3899ff-3ed4-48d0-8080-81321d88ada3"
      },
      "outputs": [],
      "source": [
        "predictions = loaded_model.predict(test_features)\n",
        "print(classification_report(test_label,predictions))"
      ]
    },
    {
      "cell_type": "code",
      "execution_count": null,
      "metadata": {
        "colab": {
          "base_uri": "https://localhost:8080/",
          "height": 222
        },
        "id": "LZfA4spxoH8v",
        "outputId": "7ebb921e-9482-4d63-a705-9435325819bd"
      },
      "outputs": [],
      "source": [
        "Saccuracy, prfs = train_model(svm.SVC(kernel='rbf',decision_function_shape ='ovo',cache_size=1024), train_features, train_label, test_features,test_label,print_pred=False)\n"
      ]
    },
    {
      "cell_type": "markdown",
      "metadata": {
        "id": "IVidDSYTpvQJ"
      },
      "source": [
        "## Ensemble search"
      ]
    },
    {
      "cell_type": "code",
      "execution_count": null,
      "metadata": {
        "colab": {
          "base_uri": "https://localhost:8080/",
          "height": 262
        },
        "id": "PoKnhCmlxhdV",
        "outputId": "391034a3-3a4f-4ed3-decc-f1def0c6b0c2"
      },
      "outputs": [],
      "source": [
        "from sklearn.ensemble import RandomForestClassifier, GradientBoostingClassifier, VotingClassifier\n",
        "from sklearn.metrics import accuracy_score, f1_score, precision_score, recall_score, classification_report\n",
        "from sklearn.ensemble import AdaBoostClassifier\n",
        "from xgboost import XGBClassifier\n",
        "\n",
        "rf1 = RandomForestClassifier(n_estimators=10000, criterion='entropy', n_jobs=-1, random_state=17, max_features=None)\n",
        "rf2 = RandomForestClassifier(n_estimators=10000, criterion='gini', n_jobs=-1, random_state=17, max_features=None)\n",
        "adb = AdaBoostClassifier(n_estimators=10000)\n",
        "gbc = GradientBoostingClassifier(random_state=17)\n",
        "xgb = XGBClassifier(seed=17)\n",
        "eclf = VotingClassifier(estimators=[('rf1', rf1), ('rf2', rf2), ('adb', adb), ('gbc', gbc), ('xgb', xgb)], voting='soft', weights=[1, 1, 1, 1, 1])\n",
        "\n",
        "eclf.fit(train_features, train_label)\n",
        "\n"
      ]
    },
    {
      "cell_type": "code",
      "execution_count": null,
      "metadata": {
        "colab": {
          "base_uri": "https://localhost:8080/",
          "height": 269
        },
        "id": "V64UB-VRYz9d",
        "outputId": "4aac9ec7-4509-4f1a-e8b4-8db7829d553d"
      },
      "outputs": [],
      "source": [
        "y_val_pred = eclf.predict_proba(test_features)\n",
        "print('\\nensemble performance:')\n",
        "print('f1 score: ', f1_score(test_label, np.argmax(y_val_pred, axis=1), average=\"macro\"))\n",
        "print('precision score:', precision_score(test_label, np.argmax(y_val_pred, axis=1), average=\"macro\"))\n",
        "print('recall score:', recall_score(test_label, np.argmax(y_val_pred, axis=1), average=\"macro\"))\n",
        "print('accuracy score:', accuracy_score(test_label, np.argmax(y_val_pred, axis=1)))\n",
        "print(classification_report(test_label, np.argmax(y_val_pred, axis=1), target_names=['human', 'bot']))"
      ]
    },
    {
      "cell_type": "code",
      "execution_count": null,
      "metadata": {
        "id": "9iV-7SY4WiWn"
      },
      "outputs": [],
      "source": [
        "import pickle\n",
        "pickle.dump(eclf, open(\"VotingClassifier.model\", 'wb'))"
      ]
    },
    {
      "cell_type": "code",
      "execution_count": null,
      "metadata": {
        "id": "RRJzpMH8Y4MY"
      },
      "outputs": [],
      "source": [
        "loaded_model = pickle.load(open(\"VotingClassifier.model\", 'rb'))"
      ]
    },
    {
      "cell_type": "code",
      "execution_count": null,
      "metadata": {
        "id": "5o6jxe1KY4x7"
      },
      "outputs": [],
      "source": [
        "y_val_pred2 = loaded_model.predict(test_features)"
      ]
    },
    {
      "cell_type": "code",
      "execution_count": null,
      "metadata": {
        "colab": {
          "base_uri": "https://localhost:8080/",
          "height": 269
        },
        "id": "O2pCCmGQZUat",
        "outputId": "b4bc098a-d25a-4d76-eb10-b208c32da891"
      },
      "outputs": [],
      "source": [
        "print('\\n Random Forest Only performance:')\n",
        "print('f1 score: ', f1_score(test_label, y_val_pred2, average=\"macro\"))\n",
        "print('precision score:', precision_score(test_label, y_val_pred2, average=\"macro\"))\n",
        "print('recall score:', recall_score(test_label, y_val_pred2, average=\"macro\"))\n",
        "print('accuracy score:', accuracy_score(test_label, y_val_pred2))\n",
        "print(classification_report(test_label, y_val_pred2, target_names=['human', 'bot']))"
      ]
    },
    {
      "cell_type": "markdown",
      "metadata": {
        "id": "hjAGzuz-bPvA"
      },
      "source": [
        "## Hyper Feature Search\n"
      ]
    },
    {
      "cell_type": "code",
      "execution_count": null,
      "metadata": {
        "colab": {
          "base_uri": "https://localhost:8080/",
          "height": 84
        },
        "id": "zs7iwXNfbZrY",
        "outputId": "0ad41800-3c70-4a44-d5a3-b526be0242b4"
      },
      "outputs": [],
      "source": [
        "from itertools import combinations\n",
        "from tqdm import tqdm_notebook as tqdm\n",
        "count=0\n",
        "best_features=[]\n",
        "best_f1_score=0\n",
        "train_label = all_data_df.loc[0:len(train_data_df),\"Is_Bot ( 1 for Bot / 0 for Human)\"]\n",
        "test_label = all_data_df.loc[len(train_data_df):,\"Is_Bot ( 1 for Bot / 0 for Human)\"]\n",
        "\n",
        "for j in tqdm(range(0,len(all_data_features_after_corr.keys()))):\n",
        "    for i in tqdm(list(combinations(all_data_features_after_corr.keys(),j))):\n",
        "        #print(i)\n",
        "        selected_datafeatures= all_data_features_after_corr.drop(columns=list(i))\n",
        "\n",
        "        train_features=selected_datafeatures.loc[0:len(train_data_df),]\n",
        "        test_features=selected_datafeatures.loc[len(train_data_df):,]\n",
        "\n",
        "        model_gini=ensemble.RandomForestClassifier(n_estimators=1000,criterion='gini',max_features=None,n_jobs=8)\n",
        "        model_entropy=ensemble.RandomForestClassifier(n_estimators=1000,criterion='entropy',max_features=None,n_jobs=8)\n",
        "\n",
        "        model_gini.fit(train_features, train_label)\n",
        "        model_entropy.fit(train_features, train_label)\n",
        "\n",
        "        predictions_gini = model_gini.predict(test_features)\n",
        "        predictions_entropy = model_entropy.predict(test_features)\n",
        "\n",
        "        f1_gini = f1_score(test_label,predictions_gini)\n",
        "        f1_entropy = f1_score(test_label,predictions_entropy)\n",
        "        #raise TypeError\n",
        "        if f1_gini>best_f1_score:\n",
        "            best_f1_score=f1_gini\n",
        "            best_features=i\n",
        "            best_model=model_gini\n",
        "            print(selected_datafeatures.keys())\n",
        "            print(classification_report(test_label,predictions_gini))\n",
        "\n",
        "        if f1_entropy>best_f1_score:\n",
        "            best_f1_score=f1_entropy\n",
        "            best_features=i\n",
        "            best_model=model_entropy\n",
        "            print(selected_datafeatures.keys())\n",
        "            print(classification_report(test_label,predictions_entropy))\n",
        "    \n",
        "    \n",
        "\n"
      ]
    }
  ],
  "metadata": {
    "colab": {
      "name": "Twitter_bot.ipynb",
      "provenance": [],
      "toc_visible": true
    },
    "kernelspec": {
      "display_name": "Python 3.9.12 ('base')",
      "language": "python",
      "name": "python3"
    },
    "language_info": {
      "codemirror_mode": {
        "name": "ipython",
        "version": 3
      },
      "file_extension": ".py",
      "mimetype": "text/x-python",
      "name": "python",
      "nbconvert_exporter": "python",
      "pygments_lexer": "ipython3",
      "version": "3.9.12"
    },
    "vscode": {
      "interpreter": {
        "hash": "cad9e99e463924ba7745486e71af4c5e3c5ab8365ca42cc5eb5ce2feaa1fc43a"
      }
    }
  },
  "nbformat": 4,
  "nbformat_minor": 0
}
